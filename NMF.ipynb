{
 "cells": [
  {
   "cell_type": "markdown",
   "id": "05ea32f0",
   "metadata": {},
   "source": [
    "# NMF"
   ]
  },
  {
   "cell_type": "markdown",
   "id": "5a58f4ef",
   "metadata": {},
   "source": [
    "## Imports"
   ]
  },
  {
   "cell_type": "code",
   "execution_count": 1,
   "id": "c6f43f25",
   "metadata": {},
   "outputs": [],
   "source": [
    "import numpy as np\n",
    "from sklearn.datasets import fetch_20newsgroups\n",
    "from sklearn import decomposition\n",
    "from scipy import linalg\n",
    "import matplotlib.pyplot as plt"
   ]
  },
  {
   "cell_type": "code",
   "execution_count": 2,
   "id": "e6e7a389",
   "metadata": {},
   "outputs": [],
   "source": [
    "%matplotlib inline\n",
    "np.set_printoptions(suppress=True)"
   ]
  },
  {
   "cell_type": "markdown",
   "id": "e303af65",
   "metadata": {},
   "source": [
    "# Dataset - Newsgroup Dataset\n",
    "\n",
    "Newsgroups are discussion groups on Usenet, which was popular in the 80s and 90s before the web really took off. This dataset includes 18,000 newsgroups posts with 20 topics.\n",
    "\n",
    "In that we select a subset of topics for this demo, specifically we select the following topics\n",
    "\n",
    "* Atheism\n",
    "* Religion\n",
    "* Graphics\n",
    "* Space"
   ]
  },
  {
   "cell_type": "code",
   "execution_count": 3,
   "id": "a61118c4",
   "metadata": {},
   "outputs": [],
   "source": [
    "categories = ['alt.atheism', 'talk.religion.misc', 'comp.graphics', 'sci.space']\n",
    "remove = ('headers', 'footers', 'quotes')\n",
    "newsgroups_train = fetch_20newsgroups(subset='train', categories=categories, remove=remove)\n",
    "newsgroups_test = fetch_20newsgroups(subset='test', categories=categories, remove=remove)"
   ]
  },
  {
   "cell_type": "code",
   "execution_count": 4,
   "id": "2778d061",
   "metadata": {},
   "outputs": [
    {
     "data": {
      "text/plain": [
       "((2034,), (2034,))"
      ]
     },
     "execution_count": 4,
     "metadata": {},
     "output_type": "execute_result"
    }
   ],
   "source": [
    "newsgroups_train.filenames.shape, newsgroups_train.target.shape"
   ]
  },
  {
   "cell_type": "code",
   "execution_count": 9,
   "id": "1272ab91",
   "metadata": {},
   "outputs": [
    {
     "name": "stdout",
     "output_type": "stream",
     "text": [
      "Archive-name: space/probe\n",
      "Last-modified: $Date: 93/04/01 14:39:19 $\n",
      "\n",
      "PLANETARY PROBES - HISTORICAL MISSIONS\n",
      "\n",
      "    This section was lightly adapted from an original posting by Larry Klaes\n",
      "    (klaes@verga.enet.dec.com), mostly minor formatting changes. Matthew\n",
      "    Wiener (weemba@libra.wistar.upenn.edu) contributed the section on\n",
      "    Voyager, and the section on Sakigake was obtained from ISAS material\n",
      "    posted by Yoshiro Yamada (yamada@yscvax.ysc.go.jp).\n",
      "\n",
      "US PLANETARY MISSIONS\n",
      "\n",
      "\n",
      "    MARINER (VENUS, MARS, & MERCURY FLYBYS AND ORBITERS)\n",
      "\n",
      "    MARINER 1, the first U.S. attempt to send a spacecraft to Venus, failed\n",
      "    minutes after launch in 1962. The guidance instructions from the ground\n",
      "    stopped reaching the rocket due to a problem with its antenna, so the\n",
      "    onboard computer took control. However, there turned out to be a bug in\n",
      "    the guidance software, and the rocket promptly went off course, so the\n",
      "    Range Safety Officer destroyed it. Although the bug is sometimes claimed\n",
      "    to have been an incorrect FORTRAN DO statement, it was actually a\n",
      "    transcription error in which the bar (indicating smoothing) was omitted\n",
      "    from the expression \"R-dot-bar sub n\" (nth smoothed value of derivative\n",
      "    of radius). This error led the software to treat normal minor variations\n",
      "    of velocity as if they were serious, leading to incorrect compensation.\n",
      "\n",
      "    MARINER 2 became the first successful probe to flyby Venus in December\n",
      "    of 1962, and it returned information which confirmed that Venus is a\n",
      "    very hot (800 degrees Fahrenheit, now revised to 900 degrees F.) world\n",
      "    with a cloud-covered atmosphere composed primarily of carbon dioxide\n",
      "    (sulfuric acid was later confirmed in 1978).\n",
      "\n",
      "    MARINER 3, launched on November 5, 1964, was lost when its protective\n",
      "    shroud failed to eject as the craft was placed into interplanetary\n",
      "    space. Unable to collect the Sun's energy for power from its solar\n",
      "    panels, the probe soon died when its batteries ran out and is now in\n",
      "    solar orbit. It was intended for a Mars flyby with MARINER 4.\n",
      "\n",
      "    MARINER 4, the sister probe to MARINER 3, did reach Mars in 1965 and\n",
      "    took the first close-up images of the Martian surface (22 in all) as it\n",
      "    flew by the planet. The probe found a cratered world with an atmosphere\n",
      "    much thinner than previously thought. Many scientists concluded from\n",
      "    this preliminary scan that Mars was a \"dead\" world in both the\n",
      "    geological and biological sense.\n",
      "\n",
      "    MARINER 5 was sent to Venus in 1967. It reconfirmed the data on that\n",
      "    planet collected five years earlier by MARINER 2, plus the information\n",
      "    that Venus' atmospheric pressure at its surface is at least 90 times\n",
      "    that of Earth's, or the equivalent of being 3,300 feet under the surface\n",
      "    of an ocean.\n",
      "\n",
      "    MARINER 6 and 7 were sent to Mars in 1969 and expanded upon the work\n",
      "    done by MARINER 4 four years earlier. However, they failed to take away\n",
      "    the concept of Mars as a \"dead\" planet, first made from the basic\n",
      "    measurements of MARINER 4.\n",
      "\n",
      "    MARINER 8 ended up in the Atlantic Ocean in 1971 when the rocket\n",
      "    launcher autopilot failed.\n",
      "\n",
      "    MARINER 9, the sister probe to MARINER 8, became the first craft to\n",
      "    orbit Mars in 1971. It returned information on the Red Planet that no\n",
      "    other probe had done before, revealing huge volcanoes on the Martian\n",
      "    surface, as well as giant canyon systems, and evidence that water once\n",
      "    flowed across the planet. The probe also took the first detailed closeup\n",
      "    images of Mars' two small moons, Phobos and Deimos.\n",
      "\n",
      "    MARINER 10 used Venus as a gravity assist to Mercury in 1974. The probe\n",
      "    did return the first close-up images of the Venusian atmosphere in\n",
      "    ultraviolet, revealing previously unseen details in the cloud cover,\n",
      "    plus the fact that the entire cloud system circles the planet in four\n",
      "    Earth days. MARINER 10 eventually made three flybys of Mercury from 1974\n",
      "    to 1975 before running out of attitude control gas. The probe revealed\n",
      "    Mercury as a heavily cratered world with a mass much greater than\n",
      "    thought. This would seem to indicate that Mercury has an iron core which\n",
      "    makes up 75 percent of the entire planet.\n",
      "\n",
      "\n",
      "    PIONEER (MOON, SUN, VENUS, JUPITER, and SATURN FLYBYS AND ORBITERS)\n",
      "\n",
      "    PIONEER 1 through 3 failed to meet their main objective - to photograph\n",
      "    the Moon close-up - but they did reach far enough into space to provide\n",
      "    new information on the area between Earth and the Moon, including new\n",
      "    data on the Van Allen radiation belts circling Earth. All three craft\n",
      "    had failures with their rocket launchers. PIONEER 1 was launched on\n",
      "    October 11, 1958, PIONEER 2 on November 8, and PIONEER 3 on December 6.\n",
      "\n",
      "    PIONEER 4 was a Moon probe which missed the Moon and became the first\n",
      "    U.S. spacecraft to orbit the Sun in 1959. PIONEER 5 was originally\n",
      "    designed to flyby Venus, but the mission was scaled down and it instead\n",
      "    studied the interplanetary environment between Venus and Earth out to\n",
      "    36.2 million kilometers in 1960, a record until MARINER 2. PIONEER 6\n",
      "    through 9 were placed into solar orbit from 1965 to 1968: PIONEER 6, 7,\n",
      "    and 8 are still transmitting information at this time. PIONEER E (would\n",
      "    have been number 10) suffered a launch failure in 1969.\n",
      "\n",
      "    PIONEER 10 became the first spacecraft to flyby Jupiter in 1973. PIONEER\n",
      "    11 followed it in 1974, and then went on to become the first probe to\n",
      "    study Saturn in 1979. Both vehicles should continue to function through\n",
      "    1995 and are heading off into interstellar space, the first craft ever\n",
      "    to do so.\n",
      "\n",
      "    PIONEER Venus 1 (1978) (also known as PIONEER Venus Orbiter, or PIONEER\n",
      "    12) burned up in the Venusian atmosphere on October 8, 1992. PVO made\n",
      "    the first radar studies of the planet's surface via probe. PIONEER Venus\n",
      "    2 (also known as PIONEER 13) sent four small probes into the atmosphere\n",
      "    in December of 1978. The main spacecraft bus burned up high in the\n",
      "    atmosphere, while the four probes descended by parachute towards the\n",
      "    surface. Though none were expected to survive to the surface, the Day\n",
      "    probe did make it and transmitted for 67.5 minutes on the ground before\n",
      "    its batteries failed.\n",
      "\n",
      "\n",
      "    RANGER (LUNAR LANDER AND IMPACT MISSIONS)\n",
      "\n",
      "    RANGER 1 and 2 were test probes for the RANGER lunar impact series. They\n",
      "    were meant for high Earth orbit testing in 1961, but rocket problems\n",
      "    left them in useless low orbits which quickly decayed.\n",
      "\n",
      "    RANGER 3, launched on January 26, 1962, was intended to land an\n",
      "    instrument capsule on the surface of the Moon, but problems during the\n",
      "    launch caused the probe to miss the Moon and head into solar orbit.\n",
      "    RANGER 3 did try to take some images of the Moon as it flew by, but the\n",
      "    camera was unfortunately aimed at deep space during the attempt.\n",
      "\n",
      "    RANGER 4, launched April 23, 1962, had the same purpose as RANGER 3, but\n",
      "    suffered technical problems enroute and crashed on the lunar farside,\n",
      "    the first U.S. probe to reach the Moon, albeit without returning data.\n",
      "\n",
      "    RANGER 5, launched October 18, 1962 and similar to RANGER 3 and 4, lost\n",
      "    all solar panel and battery power enroute and eventually missed the Moon\n",
      "    and drifted off into solar orbit.\n",
      "\n",
      "    RANGER 6 through 9 had more modified lunar missions: They were to send\n",
      "    back live images of the lunar surface as they headed towards an impact\n",
      "    with the Moon. RANGER 6 failed this objective in 1964 when its cameras\n",
      "    did not operate. RANGER 7 through 9 performed well, becoming the first\n",
      "    U.S. lunar probes to return thousands of lunar images through 1965.\n",
      "\n",
      "\n",
      "    LUNAR ORBITER (LUNAR SURFACE PHOTOGRAPHY)\n",
      "\n",
      "    LUNAR ORBITER 1 through 5 were designed to orbit the Moon and image\n",
      "    various sites being studied as landing areas for the manned APOLLO\n",
      "    missions of 1969-1972. The probes also contributed greatly to our\n",
      "    understanding of lunar surface features, particularly the lunar farside.\n",
      "    All five probes of the series, launched from 1966 to 1967, were\n",
      "    essentially successful in their missions. They were the first U.S.\n",
      "    probes to orbit the Moon. All LOs were eventually crashed into the lunar\n",
      "    surface to avoid interference with the manned APOLLO missions.\n",
      "\n",
      "\n",
      "    SURVEYOR (LUNAR SOFT LANDERS)\n",
      "\n",
      "    The SURVEYOR series were designed primarily to see if an APOLLO lunar\n",
      "    module could land on the surface of the Moon without sinking into the\n",
      "    soil (before this time, it was feared by some that the Moon was covered\n",
      "    in great layers of dust, which would not support a heavy landing\n",
      "    vehicle). SURVEYOR was successful in proving that the lunar surface was\n",
      "    strong enough to hold up a spacecraft from 1966 to 1968.\n",
      "\n",
      "    Only SURVEYOR 2 and 4 were unsuccessful missions. The rest became the\n",
      "    first U.S. probes to soft land on the Moon, taking thousands of images\n",
      "    and scooping the soil for analysis. APOLLO 12 landed 600 feet from\n",
      "    SURVEYOR 3 in 1969 and returned parts of the craft to Earth. SURVEYOR 7,\n",
      "    the last of the series, was a purely scientific mission which explored\n",
      "    the Tycho crater region in 1968.\n",
      "\n",
      "\n",
      "    VIKING (MARS ORBITERS AND LANDERS)\n",
      "\n",
      "    VIKING 1 was launched from Cape Canaveral, Florida on August 20, 1975 on\n",
      "    a TITAN 3E-CENTAUR D1 rocket. The probe went into Martian orbit on June\n",
      "    19, 1976, and the lander set down on the western slopes of Chryse\n",
      "    Planitia on July 20, 1976. It soon began its programmed search for\n",
      "    Martian micro-organisms (there is still debate as to whether the probes\n",
      "    found life there or not), and sent back incredible color panoramas of\n",
      "    its surroundings. One thing scientists learned was that Mars' sky was\n",
      "    pinkish in color, not dark blue as they originally thought (the sky is\n",
      "    pink due to sunlight reflecting off the reddish dust particles in the\n",
      "    thin atmosphere). The lander set down among a field of red sand and\n",
      "    boulders stretching out as far as its cameras could image.\n",
      "\n",
      "    The VIKING 1 orbiter kept functioning until August 7, 1980, when it ran\n",
      "    out of attitude-control propellant. The lander was switched into a\n",
      "    weather-reporting mode, where it had been hoped it would keep\n",
      "    functioning through 1994; but after November 13, 1982, an errant command\n",
      "    had been sent to the lander accidentally telling it to shut down until\n",
      "    further orders. Communication was never regained again, despite the\n",
      "    engineers' efforts through May of 1983.\n",
      "\n",
      "    An interesting side note: VIKING 1's lander has been designated the\n",
      "    Thomas A. Mutch Memorial Station in honor of the late leader of the\n",
      "    lander imaging team. The National Air and Space Museum in Washington,\n",
      "    D.C. is entrusted with the safekeeping of the Mutch Station Plaque until\n",
      "    it can be attached to the lander by a manned expedition.\n",
      "\n",
      "    VIKING 2 was launched on September 9, 1975, and arrived in Martian orbit\n",
      "    on August 7, 1976. The lander touched down on September 3, 1976 in\n",
      "    Utopia Planitia. It accomplished essentially the same tasks as its\n",
      "    sister lander, with the exception that its seisometer worked, recording\n",
      "    one marsquake. The orbiter had a series of attitude-control gas leaks in\n",
      "    1978, which prompted it being shut down that July. The lander was shut\n",
      "    down on April 12, 1980.\n",
      "\n",
      "    The orbits of both VIKING orbiters should decay around 2025.\n",
      "\n",
      "\n",
      "    VOYAGER (OUTER PLANET FLYBYS)\n",
      "\n",
      "    VOYAGER 1 was launched September 5, 1977, and flew past Jupiter on March\n",
      "    5, 1979 and by Saturn on November 13, 1980. VOYAGER 2 was launched\n",
      "    August 20, 1977 (before VOYAGER 1), and flew by Jupiter on August 7,\n",
      "    1979, by Saturn on August 26, 1981, by Uranus on January 24, 1986, and\n",
      "    by Neptune on August 8, 1989. VOYAGER 2 took advantage of a rare\n",
      "    once-every-189-years alignment to slingshot its way from outer planet to\n",
      "    outer planet. VOYAGER 1 could, in principle, have headed towards Pluto,\n",
      "    but JPL opted for the sure thing of a Titan close up.\n",
      "\n",
      "    Between the two probes, our knowledge of the 4 giant planets, their\n",
      "    satellites, and their rings has become immense. VOYAGER 1&2 discovered\n",
      "    that Jupiter has complicated atmospheric dynamics, lightning and\n",
      "    aurorae. Three new satellites were discovered. Two of the major\n",
      "    surprises were that Jupiter has rings and that Io has active sulfurous\n",
      "    volcanoes, with major effects on the Jovian magnetosphere.\n",
      "\n",
      "    When the two probes reached Saturn, they discovered over 1000 ringlets\n",
      "    and 7 satellites, including the predicted shepherd satellites that keep\n",
      "    the rings stable. The weather was tame compared with Jupiter: massive\n",
      "    jet streams with minimal variance (a 33-year great white spot/band cycle\n",
      "    is known). Titan's atmosphere was smoggy. Mimas' appearance was\n",
      "    startling: one massive impact crater gave it the Death Star appearance.\n",
      "    The big surprise here was the stranger aspects of the rings. Braids,\n",
      "    kinks, and spokes were both unexpected and difficult to explain.\n",
      "\n",
      "    VOYAGER 2, thanks to heroic engineering and programming efforts,\n",
      "    continued the mission to Uranus and Neptune. Uranus itself was highly\n",
      "    monochromatic in appearance. One oddity was that its magnetic axis was\n",
      "    found to be highly skewed from the already completely skewed rotational\n",
      "    axis, giving Uranus a peculiar magnetosphere. Icy channels were found on\n",
      "    Ariel, and Miranda was a bizarre patchwork of different terrains. 10\n",
      "    satellites and one more ring were discovered.\n",
      "\n",
      "    In contrast to Uranus, Neptune was found to have rather active weather,\n",
      "    including numerous cloud features. The ring arcs turned out to be bright\n",
      "    patches on one ring. Two other rings, and 6 other satellites, were\n",
      "    discovered. Neptune's magnetic axis was also skewed. Triton had a\n",
      "    canteloupe appearance and geysers. (What's liquid at 38K?)\n",
      "\n",
      "    The two VOYAGERs are expected to last for about two more decades. Their\n",
      "    on-target journeying gives negative evidence about possible planets\n",
      "    beyond Pluto. Their next major scientific discovery should be the\n",
      "    location of the heliopause.\n",
      "\n",
      "\n",
      "SOVIET PLANETARY MISSIONS\n",
      "\n",
      "    Since there have been so many Soviet probes to the Moon, Venus, and\n",
      "    Mars, I will highlight only the primary missions:\n",
      "\n",
      "\n",
      "    SOVIET LUNAR PROBES\n",
      "\n",
      "    LUNA 1 - Lunar impact attempt in 1959, missed Moon and became first\n",
      "\t     craft in solar orbit.\n",
      "    LUNA 2 - First craft to impact on lunar surface in 1959.\n",
      "    LUNA 3 - Took first images of lunar farside in 1959.\n",
      "    ZOND 3 - Took first images of lunar farside in 1965 since LUNA 3. Was\n",
      "\t     also a test for future Mars missions.\n",
      "    LUNA 9 - First probe to soft land on the Moon in 1966, returned images\n",
      "\t     from surface.\n",
      "    LUNA 10 - First probe to orbit the Moon in 1966.\n",
      "    LUNA 13 - Second successful Soviet lunar soft landing mission in 1966.\n",
      "    ZOND 5 - First successful circumlunar craft. ZOND 6 through 8\n",
      "\t     accomplished similar missions through 1970. The probes were\n",
      "\t     unmanned tests of a manned orbiting SOYUZ-type lunar vehicle.\n",
      "    LUNA 16 - First probe to land on Moon and return samples of lunar soil\n",
      "\t      to Earth in 1970. LUNA 20 accomplished similar mission in\n",
      "\t      1972.\n",
      "    LUNA 17 - Delivered the first unmanned lunar rover to the Moon's\n",
      "\t      surface, LUNOKHOD 1, in 1970. A similar feat was accomplished\n",
      "\t      with LUNA 21/LUNOKHOD 2 in 1973.\n",
      "    LUNA 24 - Last Soviet lunar mission to date. Returned soil samples in\n",
      "\t      1976.\n",
      "\n",
      "\n",
      "    SOVIET VENUS PROBES\n",
      "\n",
      "    VENERA 1 - First acknowledged attempt at Venus mission. Transmissions\n",
      "\t       lost enroute in 1961.\n",
      "    VENERA 2 - Attempt to image Venus during flyby mission in tandem with\n",
      "\t       VENERA 3. Probe ceased transmitting just before encounter in\n",
      "\t       February of 1966. No images were returned.\n",
      "    VENERA 3 - Attempt to place a lander capsule on Venusian surface.\n",
      "\t       Transmissions ceased just before encounter and entire probe\n",
      "\t       became the first craft to impact on another planet in 1966.\n",
      "    VENERA 4 - First probe to successfully return data while descending\n",
      "\t       through Venusian atmosphere. Crushed by air pressure before\n",
      "\t       reaching surface in 1967. VENERA 5 and 6 mission profiles\n",
      "\t       similar in 1969.\n",
      "    VENERA 7 - First probe to return data from the surface of another planet\n",
      "\t       in 1970. VENERA 8 accomplished a more detailed mission in\n",
      "\t       1972.\n",
      "    VENERA 9 - Sent first image of Venusian surface in 1975. Was also the\n",
      "\t       first probe to orbit Venus. VENERA 10 accomplished similar\n",
      "\t       mission.\n",
      "    VENERA 13 - Returned first color images of Venusian surface in 1982.\n",
      "\t\tVENERA 14 accomplished similar mission.\n",
      "    VENERA 15 - Accomplished radar mapping with VENERA 16 of sections of\n",
      "\t\tplanet's surface in 1983 more detailed than PVO.\n",
      "    VEGA 1 - Accomplished with VEGA 2 first balloon probes of Venusian\n",
      "\t     atmosphere in 1985, including two landers. Flyby buses went on\n",
      "\t     to become first spacecraft to study Comet Halley close-up in\n",
      "\t     March of 1986.\n",
      "\n",
      "\n",
      "    SOVIET MARS PROBES\n",
      "\n",
      "    MARS 1 - First acknowledged Mars probe in 1962. Transmissions ceased\n",
      "\t     enroute the following year.\n",
      "    ZOND 2 - First possible attempt to place a lander capsule on Martian\n",
      "\t     surface. Probe signals ceased enroute in 1965.\n",
      "    MARS 2 - First Soviet Mars probe to land - albeit crash - on Martian\n",
      "\t     surface. Orbiter section first Soviet probe to circle the Red\n",
      "\t     Planet in 1971.\n",
      "    MARS 3 - First successful soft landing on Martian surface, but lander\n",
      "\t     signals ceased after 90 seconds in 1971.\n",
      "    MARS 4 - Attempt at orbiting Mars in 1974, braking rockets failed to\n",
      "\t     fire, probe went on into solar orbit.\n",
      "    MARS 5 - First fully successful Soviet Mars mission, orbiting Mars in\n",
      "\t     1974. Returned images of Martian surface comparable to U.S.\n",
      "\t     probe MARINER 9.\n",
      "    MARS 6 - Landing attempt in 1974. Lander crashed into the surface.\n",
      "    MARS 7 - Lander missed Mars completely in 1974, went into a solar orbit\n",
      "\t     with its flyby bus.\n",
      "    PHOBOS 1 - First attempt to land probes on surface of Mars' largest\n",
      "\t       moon, Phobos. Probe failed enroute in 1988 due to\n",
      "\t       human/computer error.\n",
      "    PHOBOS 2 - Attempt to land probes on Martian moon Phobos. The probe did\n",
      "\t       enter Mars orbit in early 1989, but signals ceased one week\n",
      "\t       before scheduled Phobos landing.\n",
      "\n",
      "    While there has been talk of Soviet Jupiter, Saturn, and even\n",
      "    interstellar probes within the next thirty years, no major steps have\n",
      "    yet been taken with these projects. More intensive studies of the Moon,\n",
      "    Mars, Venus, and various comets have been planned for the 1990s, and a\n",
      "    Mercury mission to orbit and land probes on the tiny world has been\n",
      "    planned for 2003. How the many changes in the former Soviet Union (now\n",
      "    the Commonwealth of Independent States) will affect the future of their\n",
      "    space program remains to be seen.\n",
      "\n",
      "\n",
      "JAPANESE PLANETARY MISSIONS\n",
      "\n",
      "    SAKIGAKE (MS-T5) was launched from the Kagoshima Space Center by ISAS on\n",
      "    January 8 1985, and approached Halley's Comet within about 7 million km\n",
      "    on March 11, 1986. The spacecraft is carrying three instru- ments to\n",
      "    measure interplanetary magnetic field/plasma waves/solar wind, all of\n",
      "    which work normally now, so ISAS made an Earth swingby by Sakigake on\n",
      "    January 8, 1992 into an orbit similar to the earth's. The closest\n",
      "    approach was at 23h08m47s (JST=UTC+9h) on January 8, 1992. The\n",
      "    geocentric distance was 88,997 km. This is the first planet-swingby for\n",
      "    a Japanese spacecraft.\n",
      "\n",
      "    During the approach, Sakigake observed the geotail. Some geotail\n",
      "    passages will be scheduled in some years hence. The second Earth-swingby\n",
      "    will be on June 14, 1993 (at 40 Re (Earth's radius)), and the third\n",
      "    October 28, 1994 (at 86 Re).\n",
      "\n",
      "\n",
      "    HITEN, a small lunar probe, was launched into Earth orbit on January 24,\n",
      "    1990. The spacecraft was then known as MUSES-A, but was renamed to Hiten\n",
      "    once in orbit. The 430 lb probe looped out from Earth and made its first\n",
      "    lunary flyby on March 19, where it dropped off its 26 lb midget\n",
      "    satellite, HAGOROMO. Japan at this point became the third nation to\n",
      "    orbit a satellite around the Moon, joining the Unites States and USSR.\n",
      "\n",
      "    The smaller spacecraft, Hagoromo, remained in orbit around the Moon. An\n",
      "    apparently broken transistor radio caused the Japanese space scientists\n",
      "    to lose track of it. Hagoromo's rocket motor fired on schedule on March\n",
      "    19, but the spacecraft's tracking transmitter failed immediately. The\n",
      "    rocket firing of Hagoromo was optically confirmed using the Schmidt\n",
      "    camera (105-cm, F3.1) at the Kiso Observatory in Japan.\n",
      "\n",
      "    Hiten made multiple lunar flybys at approximately monthly intervals and\n",
      "    performed aerobraking experiments using the Earth's atmosphere. Hiten\n",
      "    made a close approach to the moon at 22:33 JST (UTC+9h) on February 15,\n",
      "    1992 at the height of 423 km from the moon's surface (35.3N, 9.7E) and\n",
      "    fired its propulsion system for about ten minutes to put the craft into\n",
      "    lunar orbit. The following is the orbital calculation results after the\n",
      "    approach:\n",
      "\n",
      "\tApoapsis Altitude: about 49,400 km\n",
      "\tPeriapsis Altitude: about 9,600 km\n",
      "\tInclination\t: 34.7 deg (to ecliptic plane)\n",
      "\tPeriod\t\t: 4.7 days\n",
      "\n",
      "\n",
      "PLANETARY MISSION REFERENCES\n",
      "\n",
      "    I also recommend reading the following works, categorized in three\n",
      "    groups: General overviews, specific books on particular space missions,\n",
      "    and periodical sources on space probes. This list is by no means\n",
      "    complete; it is primarily designed to give you places to start your\n",
      "    research through generally available works on the subject. If anyone can\n",
      "    add pertinent works to the list, it would be greatly appreciated.\n",
      "\n",
      "    Though naturally I recommend all the books listed below, I think it\n",
      "    would be best if you started out with the general overview books, in\n",
      "    order to give you a clear idea of the history of space exploration in\n",
      "    this area. I also recommend that you pick up some good, up-to-date\n",
      "    general works on astronomy and the Sol system, to give you some extra\n",
      "    background. Most of these books and periodicals can be found in any good\n",
      "    public and university library. Some of the more recently published works\n",
      "    can also be purchased in and/or ordered through any good mass- market\n",
      "    bookstore.\n",
      "\n",
      "    General Overviews (in alphabetical order by author):\n",
      "\n",
      "      J. Kelly Beatty et al, THE NEW SOLAR SYSTEM, 1990.\n",
      "\n",
      "      Merton E. Davies and Bruce C. Murray, THE VIEW FROM SPACE:\n",
      "       PHOTOGRAPHIC EXPLORATION OF THE PLANETS, 1971\n",
      "\n",
      "      Kenneth Gatland, THE ILLUSTRATED ENCYCLOPEDIA OF SPACE\n",
      "       TECHNOLOGY, 1990\n",
      "\n",
      "      Kenneth Gatland, ROBOT EXPLORERS, 1972\n",
      "\n",
      "      R. Greeley, PLANETARY LANDSCAPES, 1987\n",
      "\n",
      "      Douglas Hart, THE ENCYCLOPEDIA OF SOVIET SPACECRAFT, 1987\n",
      "\n",
      "      Nicholas L. Johnson, HANDBOOK OF SOVIET LUNAR AND PLANETARY\n",
      "       EXPLORATION, 1979\n",
      "\n",
      "      Clayton R. Koppes, JPL AND THE AMERICAN SPACE PROGRAM: A\n",
      "       HISTORY OF THE JET PROPULSION LABORATORY, 1982\n",
      "\n",
      "      Richard S. Lewis, THE ILLUSTRATED ENCYCLOPEDIA OF THE\n",
      "       UNIVERSE, 1983\n",
      "\n",
      "      Mark Littman, PLANETS BEYOND: DISCOVERING THE OUTER SOLAR\n",
      "       SYSTEM, 1988\n",
      "\n",
      "      Eugene F. Mallove and Gregory L. Matloff, THE STARFLIGHT\n",
      "       HANDBOOK: A PIONEER'S GUIDE TO INTERSTELLAR TRAVEL, 1989\n",
      "\n",
      "      Frank Miles and Nicholas Booth, RACE TO MARS: THE MARS\n",
      "       FLIGHT ATLAS, 1988\n",
      "\n",
      "      Bruce Murray, JOURNEY INTO SPACE, 1989\n",
      "\n",
      "      Oran W. Nicks, FAR TRAVELERS, 1985 (NASA SP-480)\n",
      "\n",
      "      James E. Oberg, UNCOVERING SOVIET DISASTERS: EXPLORING THE\n",
      "       LIMITS OF GLASNOST, 1988\n",
      "\n",
      "      Carl Sagan, COMET, 1986\n",
      "\n",
      "      Carl Sagan, THE COSMIC CONNECTION, 1973\n",
      "\n",
      "      Carl Sagan, PLANETS, 1969 (LIFE Science Library)\n",
      "\n",
      "      Arthur Smith, PLANETARY EXPLORATION: THIRTY YEARS OF UNMANNED\n",
      "       SPACE PROBES, 1988\n",
      "\n",
      "      Andrew Wilson, (JANE'S) SOLAR SYSTEM LOG, 1987\n",
      "\n",
      "    Specific Mission References:\n",
      "\n",
      "      Charles A. Cross and Patrick Moore, THE ATLAS OF MERCURY, 1977\n",
      "       (The MARINER 10 mission to Venus and Mercury, 1973-1975)\n",
      "\n",
      "      Joel Davis, FLYBY: THE INTERPLANETARY ODYSSEY OF VOYAGER 2, 1987\n",
      "\n",
      "      Irl Newlan, FIRST TO VENUS: THE STORY OF MARINER 2, 1963\n",
      "\n",
      "      Margaret Poynter and Arthur L. Lane, VOYAGER: THE STORY OF A\n",
      "       SPACE MISSION, 1984\n",
      "\n",
      "      Carl Sagan, MURMURS OF EARTH, 1978 (Deals with the Earth\n",
      "       information records placed on VOYAGER 1 and 2 in case the\n",
      "       probes are found by intelligences in interstellar space,\n",
      "       as well as the probes and planetary mission objectives\n",
      "       themselves.)\n",
      "\n",
      "    Other works and periodicals:\n",
      "\n",
      "    NASA has published very detailed and technical books on every space\n",
      "    probe mission it has launched. Good university libraries will carry\n",
      "    these books, and they are easily found simply by knowing which mission\n",
      "    you wish to read about. I recommend these works after you first study\n",
      "    some of the books listed above.\n",
      "\n",
      "    Some periodicals I recommend for reading on space probes are NATIONAL\n",
      "    GEOGRAPHIC, which has written articles on the PIONEER probes to Earth's\n",
      "    Moon Luna and the Jovian planets Jupiter and Saturn, the RANGER,\n",
      "    SURVEYOR, LUNAR ORBITER, and APOLLO missions to Luna, the MARINER\n",
      "    missions to Mercury, Venus, and Mars, the VIKING probes to Mars, and the\n",
      "    VOYAGER missions to Jupiter, Saturn, Uranus, and Neptune.\n",
      "\n",
      "    More details on American, Soviet, European, and Japanese probe missions\n",
      "    can be found in SKY AND TELESCOPE, ASTRONOMY, SCIENCE, NATURE, and\n",
      "    SCIENTIFIC AMERICAN magazines. TIME, NEWSWEEK, and various major\n",
      "    newspapers can supply not only general information on certain missions,\n",
      "    but also show you what else was going on with Earth at the time events\n",
      "    were unfolding, if that is of interest to you. Space missions are\n",
      "    affected by numerous political, economic, and climatic factors, as you\n",
      "    probably know.\n",
      "\n",
      "    Depending on just how far your interest in space probes will go, you\n",
      "    might also wish to join The Planetary Society, one of the largest space\n",
      "    groups in the world dedicated to planetary exploration. Their\n",
      "    periodical, THE PLANETARY REPORT, details the latest space probe\n",
      "    missions. Write to The Planetary Society, 65 North Catalina Avenue,\n",
      "    Pasadena, California 91106 USA.\n",
      "\n",
      "    Good luck with your studies in this area of space exploration. I\n",
      "    personally find planetary missions to be one of the more exciting areas\n",
      "    in this field, and the benefits human society has and will receive from\n",
      "    it are incredible, with many yet to be realized.\n",
      "\n",
      "    Larry Klaes  klaes@verga.enet.dec.com\n"
     ]
    }
   ],
   "source": [
    "print(newsgroups_train.data[144])"
   ]
  },
  {
   "cell_type": "code",
   "execution_count": 11,
   "id": "8ab5743e",
   "metadata": {},
   "outputs": [
    {
     "data": {
      "text/plain": [
       "'sci.space'"
      ]
     },
     "execution_count": 11,
     "metadata": {},
     "output_type": "execute_result"
    }
   ],
   "source": [
    "np.array(newsgroups_train.target_names)[newsgroups_train.target[144]]"
   ]
  },
  {
   "cell_type": "code",
   "execution_count": 12,
   "id": "74a580c0",
   "metadata": {},
   "outputs": [],
   "source": [
    "num_topics, num_top_words = 6, 8"
   ]
  },
  {
   "cell_type": "markdown",
   "id": "7737a6bd",
   "metadata": {},
   "source": [
    "# Data processing"
   ]
  },
  {
   "cell_type": "code",
   "execution_count": 16,
   "id": "3a398c41",
   "metadata": {},
   "outputs": [],
   "source": [
    "from sklearn.feature_extraction.text import CountVectorizer, TfidfVectorizer\n",
    "import nltk\n",
    "vectorizer = CountVectorizer(stop_words='english') #, tokenizer=LemmaTokenizer())"
   ]
  },
  {
   "cell_type": "code",
   "execution_count": 17,
   "id": "22b7b697",
   "metadata": {},
   "outputs": [
    {
     "data": {
      "text/plain": [
       "(2034, 26576)"
      ]
     },
     "execution_count": 17,
     "metadata": {},
     "output_type": "execute_result"
    }
   ],
   "source": [
    "vectors = vectorizer.fit_transform(newsgroups_train.data).todense() # (documents, vocab)\n",
    "vectors.shape #, vectors.nnz / vectors.shape[0], row_means.shape\n"
   ]
  },
  {
   "cell_type": "markdown",
   "id": "aa16cac4",
   "metadata": {},
   "source": [
    "Vectors here is our A matrix"
   ]
  },
  {
   "cell_type": "code",
   "execution_count": 29,
   "id": "687ccccd",
   "metadata": {},
   "outputs": [
    {
     "name": "stdout",
     "output_type": "stream",
     "text": [
      "2034 (2034, 26576)\n"
     ]
    }
   ],
   "source": [
    "print(len(newsgroups_train.data), vectors.shape)"
   ]
  },
  {
   "cell_type": "code",
   "execution_count": 20,
   "id": "f1243018",
   "metadata": {},
   "outputs": [],
   "source": [
    "vocab = np.array(vectorizer.get_feature_names())"
   ]
  },
  {
   "cell_type": "code",
   "execution_count": 21,
   "id": "a96cf929",
   "metadata": {},
   "outputs": [
    {
     "data": {
      "text/plain": [
       "(26576,)"
      ]
     },
     "execution_count": 21,
     "metadata": {},
     "output_type": "execute_result"
    }
   ],
   "source": [
    "vocab.shape"
   ]
  },
  {
   "cell_type": "code",
   "execution_count": 23,
   "id": "de131b56",
   "metadata": {},
   "outputs": [
    {
     "data": {
      "text/plain": [
       "array(['cosmonauts', 'cosmos', 'cosponsored', 'cost', 'costa', 'costar',\n",
       "       'costing', 'costly', 'costruction', 'costs', 'cosy', 'cote',\n",
       "       'couched', 'couldn', 'council', 'councils', 'counsel',\n",
       "       'counselees', 'counselor', 'count'], dtype='<U80')"
      ]
     },
     "execution_count": 23,
     "metadata": {},
     "output_type": "execute_result"
    }
   ],
   "source": [
    "vocab[7000:7020]"
   ]
  },
  {
   "cell_type": "markdown",
   "id": "1a82a7c5",
   "metadata": {},
   "source": [
    "# Helper Functions"
   ]
  },
  {
   "cell_type": "code",
   "execution_count": 24,
   "id": "587517f5",
   "metadata": {},
   "outputs": [],
   "source": [
    "num_top_words=8\n",
    "\n",
    "def show_topics(a):\n",
    "    top_words = lambda t: [vocab[i] for i in np.argsort(t)[:-num_top_words-1:-1]]\n",
    "    topic_words = ([top_words(t) for t in a])\n",
    "    return [' '.join(t) for t in topic_words]"
   ]
  },
  {
   "cell_type": "markdown",
   "id": "5e5f35ef",
   "metadata": {},
   "source": [
    "# NMF"
   ]
  },
  {
   "cell_type": "markdown",
   "id": "f49d37e1",
   "metadata": {},
   "source": [
    "<img src=\"nmf_doc.png\" > "
   ]
  },
  {
   "cell_type": "code",
   "execution_count": 26,
   "id": "ce74b4ca",
   "metadata": {},
   "outputs": [],
   "source": [
    "m,n=vectors.shape\n",
    "d=5  # num topics"
   ]
  },
  {
   "cell_type": "code",
   "execution_count": 27,
   "id": "0a1d0f2f",
   "metadata": {
    "collapsed": true
   },
   "outputs": [
    {
     "name": "stderr",
     "output_type": "stream",
     "text": [
      "/home/joel/anaconda3/lib/python3.8/site-packages/sklearn/decomposition/_nmf.py:312: FutureWarning: The 'init' value, when 'init=None' and n_components is less than n_samples and n_features, will be changed from 'nndsvd' to 'nndsvda' in 1.1 (renaming of 0.26).\n",
      "  warnings.warn((\"The 'init' value, when 'init=None' and \"\n"
     ]
    }
   ],
   "source": [
    "clf = decomposition.NMF(n_components=d, random_state=1)\n",
    "\n",
    "W1 = clf.fit_transform(vectors)\n",
    "H1 = clf.components_"
   ]
  },
  {
   "cell_type": "code",
   "execution_count": 28,
   "id": "f8471aeb",
   "metadata": {},
   "outputs": [
    {
     "data": {
      "text/plain": [
       "['jpeg image gif file color images format quality',\n",
       " 'edu graphics pub mail 128 ray ftp send',\n",
       " 'space launch satellite nasa commercial satellites year market',\n",
       " 'jesus god people matthew atheists does atheism said',\n",
       " 'image data available software processing ftp edu analysis']"
      ]
     },
     "execution_count": 28,
     "metadata": {},
     "output_type": "execute_result"
    }
   ],
   "source": [
    "show_topics(H1)"
   ]
  },
  {
   "cell_type": "markdown",
   "id": "8ceef858",
   "metadata": {},
   "source": [
    "## Using Tf-idf\n",
    "\n",
    "Topic Frequency-Inverse Document Frequency (TF-IDF) is a way to normalize term counts by taking into account how often they appear in a document, how long the document is, and how commmon/rare the term is."
   ]
  },
  {
   "cell_type": "code",
   "execution_count": 30,
   "id": "eb9e3e4c",
   "metadata": {},
   "outputs": [],
   "source": [
    "vectorizer_tfidf = TfidfVectorizer(stop_words='english')\n",
    "vectors_tfidf = vectorizer_tfidf.fit_transform(newsgroups_train.data) # (documents, vocab)"
   ]
  },
  {
   "cell_type": "code",
   "execution_count": 31,
   "id": "a70dc792",
   "metadata": {
    "collapsed": true
   },
   "outputs": [
    {
     "name": "stderr",
     "output_type": "stream",
     "text": [
      "/home/joel/anaconda3/lib/python3.8/site-packages/sklearn/decomposition/_nmf.py:312: FutureWarning: The 'init' value, when 'init=None' and n_components is less than n_samples and n_features, will be changed from 'nndsvd' to 'nndsvda' in 1.1 (renaming of 0.26).\n",
      "  warnings.warn((\"The 'init' value, when 'init=None' and \"\n"
     ]
    }
   ],
   "source": [
    "W1 = clf.fit_transform(vectors_tfidf)\n",
    "H1 = clf.components_"
   ]
  },
  {
   "cell_type": "code",
   "execution_count": 32,
   "id": "bf939711",
   "metadata": {},
   "outputs": [
    {
     "data": {
      "text/plain": [
       "['people don think just like objective say morality',\n",
       " 'graphics thanks files image file program windows know',\n",
       " 'space nasa launch shuttle orbit moon lunar earth',\n",
       " 'ico bobbe tek beauchaine bronx manhattan sank queens',\n",
       " 'god jesus bible believe christian atheism does belief']"
      ]
     },
     "execution_count": 32,
     "metadata": {},
     "output_type": "execute_result"
    }
   ],
   "source": [
    "show_topics(H1)"
   ]
  },
  {
   "cell_type": "code",
   "execution_count": 34,
   "id": "b9f98f58",
   "metadata": {},
   "outputs": [
    {
     "data": {
      "text/plain": [
       "(5, 26576)"
      ]
     },
     "execution_count": 34,
     "metadata": {},
     "output_type": "execute_result"
    }
   ],
   "source": [
    "H1.shape"
   ]
  },
  {
   "cell_type": "code",
   "execution_count": 35,
   "id": "aadb2360",
   "metadata": {},
   "outputs": [
    {
     "data": {
      "text/plain": [
       "43.71292605795278"
      ]
     },
     "execution_count": 35,
     "metadata": {},
     "output_type": "execute_result"
    }
   ],
   "source": [
    "clf.reconstruction_err_"
   ]
  }
 ],
 "metadata": {
  "kernelspec": {
   "display_name": "Python 3",
   "language": "python",
   "name": "python3"
  },
  "language_info": {
   "codemirror_mode": {
    "name": "ipython",
    "version": 3
   },
   "file_extension": ".py",
   "mimetype": "text/x-python",
   "name": "python",
   "nbconvert_exporter": "python",
   "pygments_lexer": "ipython3",
   "version": "3.8.8"
  }
 },
 "nbformat": 4,
 "nbformat_minor": 5
}
