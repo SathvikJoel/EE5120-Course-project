{
 "cells": [
  {
   "cell_type": "code",
   "execution_count": 8,
   "id": "cb26d5df",
   "metadata": {},
   "outputs": [],
   "source": [
    "from sympy import *"
   ]
  },
  {
   "cell_type": "code",
   "execution_count": 27,
   "id": "34e0dbe7",
   "metadata": {},
   "outputs": [],
   "source": [
    "m = Matrix([\n",
    "    [2,3,0],\n",
    "    [0, 1, 7],\n",
    "    [1, 0 , -1]\n",
    "])"
   ]
  },
  {
   "cell_type": "code",
   "execution_count": 28,
   "id": "81c2b44c",
   "metadata": {},
   "outputs": [
    {
     "data": {
      "text/plain": [
       "(Matrix([\n",
       " [1, 0, 0],\n",
       " [0, 1, 0],\n",
       " [0, 0, 1]]),\n",
       " (0, 1, 2))"
      ]
     },
     "execution_count": 28,
     "metadata": {},
     "output_type": "execute_result"
    }
   ],
   "source": [
    "m.rref()"
   ]
  },
  {
   "cell_type": "code",
   "execution_count": 15,
   "id": "92ff7bb8",
   "metadata": {},
   "outputs": [
    {
     "data": {
      "text/plain": [
       "[Matrix([\n",
       " [ 4],\n",
       " [-2],\n",
       " [ 1],\n",
       " [ 0],\n",
       " [ 0]]),\n",
       " Matrix([\n",
       " [ 1],\n",
       " [ 1],\n",
       " [ 0],\n",
       " [-1],\n",
       " [ 1]])]"
      ]
     },
     "execution_count": 15,
     "metadata": {},
     "output_type": "execute_result"
    }
   ],
   "source": [
    "m.nullspace()"
   ]
  },
  {
   "cell_type": "code",
   "execution_count": 18,
   "id": "5e7f428d",
   "metadata": {},
   "outputs": [
    {
     "data": {
      "text/latex": [
       "$\\displaystyle \\left[\\begin{matrix}16 & 28 & -8 & 40\\\\28 & 78 & -33 & 89\\\\-8 & -33 & 18 & -34\\\\40 & 89 & -34 & 114\\end{matrix}\\right]$"
      ],
      "text/plain": [
       "Matrix([\n",
       "[16,  28,  -8,  40],\n",
       "[28,  78, -33,  89],\n",
       "[-8, -33,  18, -34],\n",
       "[40,  89, -34, 114]])"
      ]
     },
     "execution_count": 18,
     "metadata": {},
     "output_type": "execute_result"
    }
   ],
   "source": [
    "m*m.T"
   ]
  },
  {
   "cell_type": "code",
   "execution_count": 25,
   "id": "a3469740",
   "metadata": {},
   "outputs": [],
   "source": [
    "A = Matrix([[2,-1,1,3],[3,1,-2,-2],[1,-1,1,7],[1,5,7,13],[1,-7,-5,12]])"
   ]
  },
  {
   "cell_type": "code",
   "execution_count": 26,
   "id": "a58913c7",
   "metadata": {},
   "outputs": [
    {
     "data": {
      "text/plain": [
       "(Matrix([\n",
       " [1, 0, 0, 0],\n",
       " [0, 1, 0, 0],\n",
       " [0, 0, 1, 0],\n",
       " [0, 0, 0, 1],\n",
       " [0, 0, 0, 0]]),\n",
       " (0, 1, 2, 3))"
      ]
     },
     "execution_count": 26,
     "metadata": {},
     "output_type": "execute_result"
    }
   ],
   "source": [
    "A.rref()"
   ]
  },
  {
   "cell_type": "code",
   "execution_count": null,
   "id": "031b190c",
   "metadata": {},
   "outputs": [],
   "source": []
  }
 ],
 "metadata": {
  "kernelspec": {
   "display_name": "Python 3",
   "language": "python",
   "name": "python3"
  },
  "language_info": {
   "codemirror_mode": {
    "name": "ipython",
    "version": 3
   },
   "file_extension": ".py",
   "mimetype": "text/x-python",
   "name": "python",
   "nbconvert_exporter": "python",
   "pygments_lexer": "ipython3",
   "version": "3.8.8"
  }
 },
 "nbformat": 4,
 "nbformat_minor": 5
}
